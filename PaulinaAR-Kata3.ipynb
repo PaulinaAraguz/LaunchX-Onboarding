{
 "cells": [
  {
   "cell_type": "code",
   "execution_count": null,
   "metadata": {},
   "outputs": [],
   "source": []
  },
  {
   "cell_type": "markdown",
   "metadata": {},
   "source": [
    "# KATA 3- Paulina Araguz Lara\n",
    "# Ejercicio 1"
   ]
  },
  {
   "cell_type": "code",
   "execution_count": 1,
   "metadata": {},
   "outputs": [
    {
     "name": "stdout",
     "output_type": "stream",
     "text": [
      "Alerta, el asteroide es peligroso\n"
     ]
    }
   ],
   "source": [
    "velAsteroide = 49\n",
    "\n",
    "if (velAsteroide > 25):\n",
    "    print(\"Alerta, el asteroide es peligroso\")"
   ]
  },
  {
   "cell_type": "markdown",
   "metadata": {},
   "source": [
    "# Ejercicio 2"
   ]
  },
  {
   "cell_type": "code",
   "execution_count": 2,
   "metadata": {},
   "outputs": [
    {
     "name": "stdout",
     "output_type": "stream",
     "text": [
      "¡Busca el asteroide en el cielo!\n"
     ]
    }
   ],
   "source": [
    "velAsteroide = 60\n",
    "\n",
    "if (velAsteroide >= 50):\n",
    "    print(\"¡Busca el asteroide en el cielo!\")\n",
    "elif (velAsteroide >= 19):\n",
    "    print(\"¡Hay un asteroide dirigiendose, pero no lo puedes ver\")\n",
    "else:\n",
    "    print(\"No hay ningun asteroide\")"
   ]
  },
  {
   "cell_type": "markdown",
   "metadata": {},
   "source": [
    "# Ejercicio 3"
   ]
  },
  {
   "cell_type": "code",
   "execution_count": 4,
   "metadata": {},
   "outputs": [
    {
     "name": "stdout",
     "output_type": "stream",
     "text": [
      "Un asteroide se aproxima pero no es peligroso\n"
     ]
    }
   ],
   "source": [
    "velAsteroide = int(input(\"Velocidad del asteroide\"))\n",
    "tamAsteroide = int(input(\"Tamaño del asteroide\"))\n",
    "\n",
    "if (tamAsteroide > 25 and velAsteroide > 25):\n",
    "    print(\"Cristo en ti confío\")\n",
    "elif(tamAsteroide < 25):\n",
    "    print(\"Un asteroide se aproxima pero no es peligroso\")\n",
    "else:\n",
    "    print(\"Un asteroide se aproxima pero no es peligroso\")\n",
    "\n",
    "if(velAsteroide >= 20):\n",
    "    print(\"Puedes ver una luz del asteroide\")"
   ]
  }
 ],
 "metadata": {
  "interpreter": {
   "hash": "22675708d0041bc18cc55167189127b53d8c52e346b4102d535152624af77f09"
  },
  "kernelspec": {
   "display_name": "Python 3.9.6 64-bit",
   "language": "python",
   "name": "python3"
  },
  "language_info": {
   "codemirror_mode": {
    "name": "ipython",
    "version": 3
   },
   "file_extension": ".py",
   "mimetype": "text/x-python",
   "name": "python",
   "nbconvert_exporter": "python",
   "pygments_lexer": "ipython3",
   "version": "3.9.6"
  },
  "orig_nbformat": 4
 },
 "nbformat": 4,
 "nbformat_minor": 2
}

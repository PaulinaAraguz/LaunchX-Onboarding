{
 "cells": [
  {
   "cell_type": "markdown",
   "metadata": {},
   "source": [
    "# KATA 7- Paulina Araguz Lara\n",
    "# Ejercicio 1"
   ]
  },
  {
   "cell_type": "code",
   "execution_count": 1,
   "metadata": {},
   "outputs": [
    {
     "name": "stdout",
     "output_type": "stream",
     "text": [
      "Marte\n",
      "Mercurio\n",
      "Tierra\n"
     ]
    }
   ],
   "source": [
    "#Creando variables\n",
    "nuevoPlaneta = \"\"\n",
    "planetas = []\n",
    "\n",
    "#Ciclo While\n",
    "while nuevoPlaneta.lower() != 'listo':\n",
    "    if nuevoPlaneta:\n",
    "        planetas.append(nuevoPlaneta)\n",
    "    nuevoPlaneta = input(\"Nombre del planeta, si la lista acabo escriba 'listo'\")   \n",
    "\n",
    "#Ciclo for\n",
    "for nuevoPlaneta in planetas:\n",
    "    print(nuevoPlaneta)"
   ]
  }
 ],
 "metadata": {
  "interpreter": {
   "hash": "9385a6a56229eaf5ddea61ad02b65dd8016b589ebe9760e2b56dce636ba7cbc1"
  },
  "kernelspec": {
   "display_name": "Python 3.9.10 64-bit (windows store)",
   "language": "python",
   "name": "python3"
  },
  "language_info": {
   "codemirror_mode": {
    "name": "ipython",
    "version": 3
   },
   "file_extension": ".py",
   "mimetype": "text/x-python",
   "name": "python",
   "nbconvert_exporter": "python",
   "pygments_lexer": "ipython3",
   "version": "3.9.10"
  },
  "orig_nbformat": 4
 },
 "nbformat": 4,
 "nbformat_minor": 2
}

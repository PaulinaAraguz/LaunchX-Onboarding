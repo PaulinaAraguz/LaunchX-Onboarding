{
 "cells": [
  {
   "cell_type": "code",
   "execution_count": null,
   "metadata": {},
   "outputs": [],
   "source": []
  },
  {
   "cell_type": "markdown",
   "metadata": {},
   "source": [
    "# KATA 8- Paulina Araguz Lara\n",
    "# Ejercicio 1"
   ]
  },
  {
   "cell_type": "code",
   "execution_count": 1,
   "metadata": {},
   "outputs": [
    {
     "name": "stdout",
     "output_type": "stream",
     "text": [
      "Marte\n",
      "2\n",
      "Marte\n",
      "2\n",
      "6752\n"
     ]
    }
   ],
   "source": [
    "#Creando el diccionario\n",
    "planeta = {\n",
    "    \"nombre\":\"Marte\",\n",
    "    \"lunas\" : 2\n",
    "}\n",
    "\n",
    "#Imprimiendo los datos por primera vez\n",
    "print(planeta[\"nombre\"])\n",
    "print(planeta[\"lunas\"])\n",
    "\n",
    "#Creando nuevo diccionario anidado\n",
    "planeta[\"Circunferencia (km)\"] = planeta[\"Circunferencia (km)\"] = {\n",
    "    \"Polar\": 6752,\n",
    "    \"Equatorial\" : 6792\n",
    "}\n",
    "\n",
    "#Imprimiendo datos por segunda vez\n",
    "print(planeta[\"nombre\"])\n",
    "print(planeta[\"lunas\"])\n",
    "print(planeta[\"Circunferencia (km)\"][\"Polar\"])"
   ]
  },
  {
   "cell_type": "markdown",
   "metadata": {},
   "source": [
    "# Ejercicio 2"
   ]
  },
  {
   "cell_type": "code",
   "execution_count": 2,
   "metadata": {},
   "outputs": [
    {
     "name": "stdout",
     "output_type": "stream",
     "text": [
      "17.833333333333332\n"
     ]
    }
   ],
   "source": [
    "#Creando el diccionario\n",
    "planet_moons = {\n",
    "    'mercury': 0,\n",
    "    'venus': 0,\n",
    "    'earth': 1,\n",
    "    'mars': 2,\n",
    "    'jupiter': 79,\n",
    "    'saturn': 82,\n",
    "    'uranus': 27,\n",
    "    'neptune': 14,\n",
    "    'pluto': 5,\n",
    "    'haumea': 2,\n",
    "    'makemake': 1,\n",
    "    'eris': 1\n",
    "}\n",
    "\n",
    "#Determinando el total de lunas\n",
    "lunas = 0\n",
    "planetas = len(planet_moons.keys())\n",
    "#Ciclo for para las lunas\n",
    "for value in planet_moons.values():\n",
    "    lunas = lunas + value\n",
    "    \n",
    "#Determinando el promedio\n",
    "promedio = lunas/planetas\n",
    "print(promedio)"
   ]
  }
 ],
 "metadata": {
  "interpreter": {
   "hash": "9385a6a56229eaf5ddea61ad02b65dd8016b589ebe9760e2b56dce636ba7cbc1"
  },
  "kernelspec": {
   "display_name": "Python 3.9.10 64-bit (windows store)",
   "language": "python",
   "name": "python3"
  },
  "language_info": {
   "codemirror_mode": {
    "name": "ipython",
    "version": 3
   },
   "file_extension": ".py",
   "mimetype": "text/x-python",
   "name": "python",
   "nbconvert_exporter": "python",
   "pygments_lexer": "ipython3",
   "version": "3.9.10"
  },
  "orig_nbformat": 4
 },
 "nbformat": 4,
 "nbformat_minor": 2
}

{
 "cells": [
  {
   "cell_type": "markdown",
   "metadata": {},
   "source": [
    "# KATA 5- Paulina Araguz Lara\n",
    "# Ejercicio 1- Utilizar operadores aritméticos \n",
    "# Ejercicio 2- convierte cadenas en números y usa valores absolutos"
   ]
  },
  {
   "cell_type": "code",
   "execution_count": 1,
   "metadata": {},
   "outputs": [
    {
     "name": "stdout",
     "output_type": "stream",
     "text": [
      "10\n",
      "6.21\n"
     ]
    }
   ],
   "source": [
    "#Creando variables y capturando datos\n",
    "disPlaneta1 = int(input(\"Distancia del planeta 1\"))\n",
    "disPlaneta2 = int(input(\"Distancia del planeta 2\"))\n",
    "\n",
    "#Haciendo las operaciones\n",
    "disKM = disPlaneta2 - disPlaneta1\n",
    "disMI = disKM * 0.621\n",
    "\n",
    "#Imprimiendo los valores\n",
    "print(abs(disKM))\n",
    "print(abs(disMI))"
   ]
  }
 ],
 "metadata": {
  "interpreter": {
   "hash": "9385a6a56229eaf5ddea61ad02b65dd8016b589ebe9760e2b56dce636ba7cbc1"
  },
  "kernelspec": {
   "display_name": "Python 3.9.10 64-bit (windows store)",
   "language": "python",
   "name": "python3"
  },
  "language_info": {
   "codemirror_mode": {
    "name": "ipython",
    "version": 3
   },
   "file_extension": ".py",
   "mimetype": "text/x-python",
   "name": "python",
   "nbconvert_exporter": "python",
   "pygments_lexer": "ipython3",
   "version": "3.9.10"
  },
  "orig_nbformat": 4
 },
 "nbformat": 4,
 "nbformat_minor": 2
}

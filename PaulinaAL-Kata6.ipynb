{
 "cells": [
  {
   "cell_type": "markdown",
   "metadata": {},
   "source": [
    "# KATA 6- Paulina Araguz Lara\n",
    "# Ejercicio 1"
   ]
  },
  {
   "cell_type": "code",
   "execution_count": 3,
   "metadata": {},
   "outputs": [
    {
     "name": "stdout",
     "output_type": "stream",
     "text": [
      "8\n",
      "plutón\n"
     ]
    }
   ],
   "source": [
    "#Creando la lista e imprmiendo el número de valores\n",
    "planetas = [\"Mercurio\", \"Venus\", \"Tierra\", \"Marte\", \"Jupiter\", \"Saturno\", \"Urano\", \"Neptuno\"]\n",
    "print(len(planetas))\n",
    "\n",
    "#Agregando plutón e imprmiendo el último valor\n",
    "planetas.append(\"plutón\")\n",
    "print(planetas[-1])"
   ]
  },
  {
   "cell_type": "markdown",
   "metadata": {},
   "source": [
    "# Ejercicio 2"
   ]
  },
  {
   "cell_type": "code",
   "execution_count": 4,
   "metadata": {},
   "outputs": [
    {
     "name": "stdout",
     "output_type": "stream",
     "text": [
      "Los planetas mas cercanos al sol Apartir del planeta dado son: []\n",
      "Los planetas mas alejados al solApartir del planeta dado son: ['Venus', 'Tierra', 'Marte', 'Jupiter', 'Saturno', 'Urano', 'Neptuno']\n"
     ]
    }
   ],
   "source": [
    "#Creando la lista\n",
    "planetas = [\"Mercurio\", \"Venus\", \"Tierra\", \"Marte\", \"Jupiter\", \"Saturno\", \"Urano\", \"Neptuno\"]\n",
    "\n",
    "#Solicitando un planeta para evaluar\n",
    "planeta = input(\"Ingresa el nombre del planeta \"\n",
    "                \"Recuerda comenzar con una mayúscula\")\n",
    "\n",
    "#Buscando el planeta\n",
    "indicePlaneta = planetas.index(planeta)\n",
    "planetasCercanos = planetas[0:indicePlaneta]\n",
    "planetasAlejados = planetas[indicePlaneta+1:]\n",
    "#Imprimiendo datos \n",
    "print(\"Los planetas mas cercanos al sol \"\n",
    "      \"Apartir del planeta dado son: \" + str(planetasCercanos))\n",
    "print(\"Los planetas mas alejados al sol\"\n",
    "      \"Apartir del planeta dado son: \" + str(planetasAlejados))"
   ]
  }
 ],
 "metadata": {
  "interpreter": {
   "hash": "9385a6a56229eaf5ddea61ad02b65dd8016b589ebe9760e2b56dce636ba7cbc1"
  },
  "kernelspec": {
   "display_name": "Python 3.9.10 64-bit (windows store)",
   "language": "python",
   "name": "python3"
  },
  "language_info": {
   "codemirror_mode": {
    "name": "ipython",
    "version": 3
   },
   "file_extension": ".py",
   "mimetype": "text/x-python",
   "name": "python",
   "nbconvert_exporter": "python",
   "pygments_lexer": "ipython3",
   "version": "3.9.10"
  },
  "orig_nbformat": 4
 },
 "nbformat": 4,
 "nbformat_minor": 2
}
